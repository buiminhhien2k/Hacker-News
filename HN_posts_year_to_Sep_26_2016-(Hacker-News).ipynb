{
 "cells": [
  {
   "cell_type": "markdown",
   "metadata": {},
   "source": [
    "# HACKER NEWS STATISTICS PROJECT"
   ]
  },
  {
   "cell_type": "markdown",
   "metadata": {},
   "source": [
    "In this project, I am going to analyze the [Hacker News](https://news.ycombinator.com/) site. Basically, Hacker News is a website allow their user to posts the technology stories (known as \"posts\") and the other member can comment and vote, similar to reddit. Hacker News is extremely well-known in technology field, the top posts are usually attracted hundreds of thousands of visitors.\n",
    "\n",
    "In this project I will compare two popular types of posts (`ask hn` and `show hn`) in Hacker News and find out which type witnesses more average comments per post. Besides, I also clarify the best specific time in a day for these two kind of posts to receive more attention from the other members."
   ]
  },
  {
   "cell_type": "markdown",
   "metadata": {},
   "source": [
    "__1. Reading and displaying data__"
   ]
  },
  {
   "cell_type": "code",
   "execution_count": 1,
   "metadata": {},
   "outputs": [
    {
     "data": {
      "text/plain": [
       "80401"
      ]
     },
     "execution_count": 1,
     "metadata": {},
     "output_type": "execute_result"
    }
   ],
   "source": [
    "file = open(\"HN_posts_year_to_Sep_26_2016.csv\", encoding='utf8')\n",
    "hn_new=file.readlines()\n",
    "hn=[]\n",
    "for i in hn_new:\n",
    "    i=i.replace(\"\\n\",\"\")\n",
    "    line= list(i.split(\",\"))\n",
    "    if line[-3] != '0':\n",
    "        hn.append(line)\n",
    "hn_header=hn[0]\n",
    "hn=hn[1:]\n",
    "len(hn)"
   ]
  },
  {
   "cell_type": "code",
   "execution_count": 2,
   "metadata": {},
   "outputs": [],
   "source": [
    "def explore_data(dataset, start=0, end=5, rows_and_columns=False):\n",
    "    dataset_slice = dataset[start:end]    \n",
    "    for row in dataset_slice:\n",
    "        print('\\n') # adds a new (empty) line between rows\n",
    "        print(row)        \n",
    "    if rows_and_columns:\n",
    "        print('Number of rows:', len(dataset))\n",
    "        print('Number of columns:', len(dataset[0]))\n",
    "#This function help us to de=isplay the list of lists in a good-looking form,\n",
    "#Easier to manage the data"
   ]
  },
  {
   "cell_type": "code",
   "execution_count": 3,
   "metadata": {},
   "outputs": [
    {
     "name": "stdout",
     "output_type": "stream",
     "text": [
      "['id', 'title', 'url', 'num_points', 'num_comments', 'author', 'created_at']\n",
      "\n",
      "\n",
      "['12578975', 'Saving the Hassle of Shopping', 'https://blog.menswr.com/2016/09/07/whats-new-with-your-style-feed/', '1', '1', 'bdoux', '9/26/2016 3:13']\n",
      "\n",
      "\n",
      "['12578908', 'Ask HN: What TLD do you use for local development?', '', '4', '7', 'Sevrene', '9/26/2016 2:53']\n",
      "\n",
      "\n",
      "['12578822', 'Amazons Algorithms Dont Find You the Best Deals', 'https://www.technologyreview.com/s/602442/amazons-algorithms-dont-find-you-the-best-deals/', '1', '1', 'yarapavan', '9/26/2016 2:26']\n",
      "Number of rows: 80401\n",
      "Number of columns: 7\n",
      "None\n"
     ]
    }
   ],
   "source": [
    "print(hn_header)\n",
    "print(explore_data(hn,0,3,True))"
   ]
  },
  {
   "cell_type": "markdown",
   "metadata": {},
   "source": [
    "__2. Extracting `ask hn` and `show hn` posts__"
   ]
  },
  {
   "cell_type": "code",
   "execution_count": 4,
   "metadata": {},
   "outputs": [],
   "source": [
    "ask_posts=[]\n",
    "show_posts=[]\n",
    "other_posts=[]\n",
    "for row in hn:\n",
    "    title = row[1]\n",
    "    if title.lower().startswith(\"ask hn\"):\n",
    "        ask_posts.append(row)\n",
    "    elif title.lower().startswith(\"show hn\"):\n",
    "        show_posts.append(row)\n",
    "    else:\n",
    "        other_posts.append(row)"
   ]
  },
  {
   "cell_type": "code",
   "execution_count": 5,
   "metadata": {},
   "outputs": [
    {
     "data": {
      "text/plain": [
       "6382"
      ]
     },
     "execution_count": 5,
     "metadata": {},
     "output_type": "execute_result"
    }
   ],
   "source": [
    "len(ask_posts)"
   ]
  },
  {
   "cell_type": "code",
   "execution_count": 6,
   "metadata": {},
   "outputs": [
    {
     "name": "stdout",
     "output_type": "stream",
     "text": [
      "True\n"
     ]
    }
   ],
   "source": [
    "total_row_in_different_lists=(len(show_posts)+len(ask_posts)+len(other_posts))\n",
    "total_row=len(hn)\n",
    "print(total_row==total_row_in_different_lists)"
   ]
  },
  {
   "cell_type": "markdown",
   "metadata": {},
   "source": [
    "__3. Calculating the average comments per posts of two types__"
   ]
  },
  {
   "cell_type": "code",
   "execution_count": 7,
   "metadata": {},
   "outputs": [
    {
     "name": "stdout",
     "output_type": "stream",
     "text": [
      "13.942337825133187\n"
     ]
    }
   ],
   "source": [
    "total_ask_comments=0\n",
    "for row in ask_posts:\n",
    "    num_comments=float(row[-3])\n",
    "    total_ask_comments+=num_comments\n",
    "avg_ask_comments=total_ask_comments/len(ask_posts)\n",
    "print(avg_ask_comments)"
   ]
  },
  {
   "cell_type": "code",
   "execution_count": 8,
   "metadata": {},
   "outputs": [
    {
     "name": "stdout",
     "output_type": "stream",
     "text": [
      "9.802930056710775\n"
     ]
    }
   ],
   "source": [
    "total_show_comments=0\n",
    "for row in show_posts:\n",
    "    num_comments=float(row[-3])\n",
    "    total_show_comments+=num_comments\n",
    "avg_show_comments=total_show_comments/len(show_posts)\n",
    "print(avg_show_comments)"
   ]
  },
  {
   "cell_type": "markdown",
   "metadata": {},
   "source": [
    "On average, the ask posts receive more comments compared to the number of the same criteria from show posts (13.74 > 9.81)"
   ]
  },
  {
   "cell_type": "markdown",
   "metadata": {},
   "source": [
    "__4.1. Analysising data of `Ask Posts` by hour created__"
   ]
  },
  {
   "cell_type": "code",
   "execution_count": 9,
   "metadata": {},
   "outputs": [],
   "source": [
    "time_and_comment_in_ask_hn=[]\n",
    "for row in ask_posts:\n",
    "    created_at=row[6]\n",
    "    num_comments=int(row[-3])\n",
    "    time_and_comment_in_ask_hn.append([created_at,num_comments])"
   ]
  },
  {
   "cell_type": "code",
   "execution_count": 10,
   "metadata": {},
   "outputs": [
    {
     "name": "stdout",
     "output_type": "stream",
     "text": [
      "[['9/26/2016 2:53', 7], ['9/26/2016 1:17', 3], ['9/25/2016 22:48', 3], ['9/25/2016 21:50', 2], ['9/25/2016 19:22', 22]]\n"
     ]
    }
   ],
   "source": [
    "print(time_and_comment_in_ask_hn[0:5])"
   ]
  },
  {
   "cell_type": "markdown",
   "metadata": {},
   "source": [
    "We need to convert the strings in `'created_at'` column into 'datetime' datatype"
   ]
  },
  {
   "cell_type": "code",
   "execution_count": 11,
   "metadata": {},
   "outputs": [],
   "source": [
    "import datetime as dt\n",
    "counts_by_hour_ask_hn={}\n",
    "comments_by_hour_ask_hn={}\n",
    "for each in time_and_comment_in_ask_hn:\n",
    "    time=each[0]\n",
    "    comments_number=each[1]\n",
    "    date_result=dt.datetime.strptime(time,\"%m/%d/%Y %H:%M\")\n",
    "    hour_created=date_result.strftime(\"%H\")\n",
    "    if hour_created not in counts_by_hour_ask_hn:\n",
    "        counts_by_hour_ask_hn[hour_created]=1\n",
    "        comments_by_hour_ask_hn[hour_created]=comments_number\n",
    "    else:\n",
    "        counts_by_hour_ask_hn[hour_created]+=1\n",
    "        comments_by_hour_ask_hn[hour_created]+=comments_number"
   ]
  },
  {
   "cell_type": "code",
   "execution_count": 12,
   "metadata": {},
   "outputs": [
    {
     "name": "stdout",
     "output_type": "stream",
     "text": [
      "{'02': 212, '01': 199, '22': 268, '21': 368, '19': 397, '17': 366, '15': 435, '14': 350, '13': 296, '11': 234, '10': 208, '09': 164, '07': 148, '03': 198, '16': 379, '08': 180, '00': 216, '23': 255, '20': 362, '18': 419, '12': 251, '04': 165, '06': 161, '05': 151}\n"
     ]
    }
   ],
   "source": [
    "print(counts_by_hour_ask_hn)"
   ]
  },
  {
   "cell_type": "code",
   "execution_count": 13,
   "metadata": {},
   "outputs": [
    {
     "name": "stdout",
     "output_type": "stream",
     "text": [
      "{'02': 2922, '01': 1778, '22': 3202, '21': 3798, '19': 3852, '17': 5061, '15': 18073, '14': 4709, '13': 7028, '11': 2710, '10': 2869, '09': 1398, '07': 1543, '03': 1659, '16': 4089, '08': 2244, '00': 1805, '23': 2081, '20': 4292, '18': 4633, '12': 3893, '04': 2201, '06': 1500, '05': 1640}\n"
     ]
    }
   ],
   "source": [
    "print(comments_by_hour_ask_hn)"
   ]
  },
  {
   "cell_type": "markdown",
   "metadata": {},
   "source": [
    "Calculating average number of comments per hour in a day"
   ]
  },
  {
   "cell_type": "code",
   "execution_count": 14,
   "metadata": {},
   "outputs": [],
   "source": [
    "avg_by_hour_ask_hn=[]\n",
    "for each_row in comments_by_hour_ask_hn:\n",
    "    if each_row in counts_by_hour_ask_hn:\n",
    "        avg_by_hour_ask_hn.append([each_row, comments_by_hour_ask_hn[each_row]/counts_by_hour_ask_hn[each_row]])"
   ]
  },
  {
   "cell_type": "code",
   "execution_count": 15,
   "metadata": {},
   "outputs": [
    {
     "data": {
      "text/plain": [
       "[['02', 13.783018867924529],\n",
       " ['01', 8.93467336683417],\n",
       " ['22', 11.947761194029852],\n",
       " ['21', 10.320652173913043],\n",
       " ['19', 9.702770780856422],\n",
       " ['17', 13.827868852459016],\n",
       " ['15', 41.54712643678161],\n",
       " ['14', 13.454285714285714],\n",
       " ['13', 23.743243243243242],\n",
       " ['11', 11.581196581196581],\n",
       " ['10', 13.79326923076923],\n",
       " ['09', 8.524390243902438],\n",
       " ['07', 10.425675675675675],\n",
       " ['03', 8.378787878787879],\n",
       " ['16', 10.78891820580475],\n",
       " ['08', 12.466666666666667],\n",
       " ['00', 8.356481481481481],\n",
       " ['23', 8.16078431372549],\n",
       " ['20', 11.856353591160222],\n",
       " ['18', 11.05727923627685],\n",
       " ['12', 15.50996015936255],\n",
       " ['04', 13.33939393939394],\n",
       " ['06', 9.316770186335404],\n",
       " ['05', 10.860927152317881]]"
      ]
     },
     "execution_count": 15,
     "metadata": {},
     "output_type": "execute_result"
    }
   ],
   "source": [
    "avg_by_hour_ask_hn"
   ]
  },
  {
   "cell_type": "markdown",
   "metadata": {},
   "source": [
    "Sorting the list above base on the second value of of each list (the average number of comments per hour)"
   ]
  },
  {
   "cell_type": "code",
   "execution_count": 16,
   "metadata": {},
   "outputs": [],
   "source": [
    "def func(lists):\n",
    "    return lists[1]\n",
    "sorted_swap_ask_hn=sorted(avg_by_hour_ask_hn,key=func,reverse=True)"
   ]
  },
  {
   "cell_type": "code",
   "execution_count": 17,
   "metadata": {},
   "outputs": [
    {
     "data": {
      "text/plain": [
       "[['15', 41.54712643678161],\n",
       " ['13', 23.743243243243242],\n",
       " ['12', 15.50996015936255],\n",
       " ['17', 13.827868852459016],\n",
       " ['10', 13.79326923076923],\n",
       " ['02', 13.783018867924529],\n",
       " ['14', 13.454285714285714],\n",
       " ['04', 13.33939393939394],\n",
       " ['08', 12.466666666666667],\n",
       " ['22', 11.947761194029852],\n",
       " ['20', 11.856353591160222],\n",
       " ['11', 11.581196581196581],\n",
       " ['18', 11.05727923627685],\n",
       " ['05', 10.860927152317881],\n",
       " ['16', 10.78891820580475],\n",
       " ['07', 10.425675675675675],\n",
       " ['21', 10.320652173913043],\n",
       " ['19', 9.702770780856422],\n",
       " ['06', 9.316770186335404],\n",
       " ['01', 8.93467336683417],\n",
       " ['09', 8.524390243902438],\n",
       " ['03', 8.378787878787879],\n",
       " ['00', 8.356481481481481],\n",
       " ['23', 8.16078431372549]]"
      ]
     },
     "execution_count": 17,
     "metadata": {},
     "output_type": "execute_result"
    }
   ],
   "source": [
    "sorted_swap_ask_hn"
   ]
  },
  {
   "cell_type": "code",
   "execution_count": 18,
   "metadata": {},
   "outputs": [],
   "source": [
    "top_5_highest_chance_time_ask_hn=[]\n",
    "for i in sorted_swap_ask_hn[0:5]:\n",
    "    time=dt.datetime.strptime(i[0],\"%H\")\n",
    "    time_string=time.strftime(\"%H:00\")\n",
    "    platform=\"{}: {:.2f} average comments per post\"\n",
    "    string=platform.format(time_string,i[1])\n",
    "    top_5_highest_chance_time_ask_hn.append(string)"
   ]
  },
  {
   "cell_type": "code",
   "execution_count": 19,
   "metadata": {
    "scrolled": false
   },
   "outputs": [
    {
     "name": "stdout",
     "output_type": "stream",
     "text": [
      "Top 5 Hours for 'Ask HN' Comments\n",
      "\n",
      "\n",
      "15:00: 41.55 average comments per post\n",
      "\n",
      "\n",
      "13:00: 23.74 average comments per post\n",
      "\n",
      "\n",
      "12:00: 15.51 average comments per post\n",
      "\n",
      "\n",
      "17:00: 13.83 average comments per post\n",
      "\n",
      "\n",
      "10:00: 13.79 average comments per post\n"
     ]
    }
   ],
   "source": [
    "print(\"Top 5 Hours for 'Ask HN' Comments\")\n",
    "explore_data(top_5_highest_chance_time_ask_hn)"
   ]
  },
  {
   "cell_type": "markdown",
   "metadata": {},
   "source": [
    "__4.2. Analysising data of `Show Posts` by hour created__"
   ]
  },
  {
   "cell_type": "markdown",
   "metadata": {},
   "source": [
    "Now we just need to execute the same process as we did for `Ask Posts`"
   ]
  },
  {
   "cell_type": "code",
   "execution_count": 20,
   "metadata": {},
   "outputs": [],
   "source": [
    "time_and_comment_in_show_hn=[]\n",
    "for row in show_posts:\n",
    "    created_at=row[6]\n",
    "    num_comments=int(row[-3])\n",
    "    time_and_comment_in_show_hn.append([created_at,num_comments])"
   ]
  },
  {
   "cell_type": "code",
   "execution_count": 21,
   "metadata": {
    "scrolled": true
   },
   "outputs": [
    {
     "ename": "ValueError",
     "evalue": "time data 'askstories' does not match format '%m/%d/%Y %H:%M'",
     "output_type": "error",
     "traceback": [
      "\u001b[1;31m---------------------------------------------------------------------------\u001b[0m",
      "\u001b[1;31mValueError\u001b[0m                                Traceback (most recent call last)",
      "\u001b[1;32m<ipython-input-21-ab63e9355966>\u001b[0m in \u001b[0;36m<module>\u001b[1;34m\u001b[0m\n\u001b[0;32m      4\u001b[0m     \u001b[0mtimes\u001b[0m\u001b[1;33m=\u001b[0m\u001b[0meach\u001b[0m\u001b[1;33m[\u001b[0m\u001b[1;36m0\u001b[0m\u001b[1;33m]\u001b[0m\u001b[1;33m\u001b[0m\u001b[1;33m\u001b[0m\u001b[0m\n\u001b[0;32m      5\u001b[0m     \u001b[0mcomments_numbers\u001b[0m\u001b[1;33m=\u001b[0m\u001b[0meach\u001b[0m\u001b[1;33m[\u001b[0m\u001b[1;36m1\u001b[0m\u001b[1;33m]\u001b[0m\u001b[1;33m\u001b[0m\u001b[1;33m\u001b[0m\u001b[0m\n\u001b[1;32m----> 6\u001b[1;33m     \u001b[0mdate_result\u001b[0m\u001b[1;33m=\u001b[0m\u001b[0mdt\u001b[0m\u001b[1;33m.\u001b[0m\u001b[0mdatetime\u001b[0m\u001b[1;33m.\u001b[0m\u001b[0mstrptime\u001b[0m\u001b[1;33m(\u001b[0m\u001b[0mtimes\u001b[0m\u001b[1;33m,\u001b[0m\u001b[1;34m\"%m/%d/%Y %H:%M\"\u001b[0m\u001b[1;33m)\u001b[0m\u001b[1;33m\u001b[0m\u001b[1;33m\u001b[0m\u001b[0m\n\u001b[0m\u001b[0;32m      7\u001b[0m     \u001b[0mhour_created\u001b[0m\u001b[1;33m=\u001b[0m\u001b[0mdate_result\u001b[0m\u001b[1;33m.\u001b[0m\u001b[0mstrftime\u001b[0m\u001b[1;33m(\u001b[0m\u001b[1;34m\"%H\"\u001b[0m\u001b[1;33m)\u001b[0m\u001b[1;33m\u001b[0m\u001b[1;33m\u001b[0m\u001b[0m\n\u001b[0;32m      8\u001b[0m     \u001b[1;32mif\u001b[0m \u001b[0mhour_created\u001b[0m \u001b[1;32mnot\u001b[0m \u001b[1;32min\u001b[0m \u001b[0mcounts_by_hour_show_hn\u001b[0m\u001b[1;33m:\u001b[0m\u001b[1;33m\u001b[0m\u001b[1;33m\u001b[0m\u001b[0m\n",
      "\u001b[1;32m~\\Anaconda3\\lib\\_strptime.py\u001b[0m in \u001b[0;36m_strptime_datetime\u001b[1;34m(cls, data_string, format)\u001b[0m\n\u001b[0;32m    575\u001b[0m     \"\"\"Return a class cls instance based on the input string and the\n\u001b[0;32m    576\u001b[0m     format string.\"\"\"\n\u001b[1;32m--> 577\u001b[1;33m     \u001b[0mtt\u001b[0m\u001b[1;33m,\u001b[0m \u001b[0mfraction\u001b[0m\u001b[1;33m,\u001b[0m \u001b[0mgmtoff_fraction\u001b[0m \u001b[1;33m=\u001b[0m \u001b[0m_strptime\u001b[0m\u001b[1;33m(\u001b[0m\u001b[0mdata_string\u001b[0m\u001b[1;33m,\u001b[0m \u001b[0mformat\u001b[0m\u001b[1;33m)\u001b[0m\u001b[1;33m\u001b[0m\u001b[1;33m\u001b[0m\u001b[0m\n\u001b[0m\u001b[0;32m    578\u001b[0m     \u001b[0mtzname\u001b[0m\u001b[1;33m,\u001b[0m \u001b[0mgmtoff\u001b[0m \u001b[1;33m=\u001b[0m \u001b[0mtt\u001b[0m\u001b[1;33m[\u001b[0m\u001b[1;33m-\u001b[0m\u001b[1;36m2\u001b[0m\u001b[1;33m:\u001b[0m\u001b[1;33m]\u001b[0m\u001b[1;33m\u001b[0m\u001b[1;33m\u001b[0m\u001b[0m\n\u001b[0;32m    579\u001b[0m     \u001b[0margs\u001b[0m \u001b[1;33m=\u001b[0m \u001b[0mtt\u001b[0m\u001b[1;33m[\u001b[0m\u001b[1;33m:\u001b[0m\u001b[1;36m6\u001b[0m\u001b[1;33m]\u001b[0m \u001b[1;33m+\u001b[0m \u001b[1;33m(\u001b[0m\u001b[0mfraction\u001b[0m\u001b[1;33m,\u001b[0m\u001b[1;33m)\u001b[0m\u001b[1;33m\u001b[0m\u001b[1;33m\u001b[0m\u001b[0m\n",
      "\u001b[1;32m~\\Anaconda3\\lib\\_strptime.py\u001b[0m in \u001b[0;36m_strptime\u001b[1;34m(data_string, format)\u001b[0m\n\u001b[0;32m    357\u001b[0m     \u001b[1;32mif\u001b[0m \u001b[1;32mnot\u001b[0m \u001b[0mfound\u001b[0m\u001b[1;33m:\u001b[0m\u001b[1;33m\u001b[0m\u001b[1;33m\u001b[0m\u001b[0m\n\u001b[0;32m    358\u001b[0m         raise ValueError(\"time data %r does not match format %r\" %\n\u001b[1;32m--> 359\u001b[1;33m                          (data_string, format))\n\u001b[0m\u001b[0;32m    360\u001b[0m     \u001b[1;32mif\u001b[0m \u001b[0mlen\u001b[0m\u001b[1;33m(\u001b[0m\u001b[0mdata_string\u001b[0m\u001b[1;33m)\u001b[0m \u001b[1;33m!=\u001b[0m \u001b[0mfound\u001b[0m\u001b[1;33m.\u001b[0m\u001b[0mend\u001b[0m\u001b[1;33m(\u001b[0m\u001b[1;33m)\u001b[0m\u001b[1;33m:\u001b[0m\u001b[1;33m\u001b[0m\u001b[1;33m\u001b[0m\u001b[0m\n\u001b[0;32m    361\u001b[0m         raise ValueError(\"unconverted data remains: %s\" %\n",
      "\u001b[1;31mValueError\u001b[0m: time data 'askstories' does not match format '%m/%d/%Y %H:%M'"
     ]
    }
   ],
   "source": [
    "counts_by_hour_show_hn={}\n",
    "comments_by_hour_show_hn={}\n",
    "for each in time_and_comment_in_show_hn:\n",
    "    times=each[0]\n",
    "    comments_numbers=each[1]\n",
    "    date_result=dt.datetime.strptime(times,\"%m/%d/%Y %H:%M\")\n",
    "    hour_created=date_result.strftime(\"%H\")\n",
    "    if hour_created not in counts_by_hour_show_hn:\n",
    "        counts_by_hour_show_hn[hour_created]=1\n",
    "        comments_by_hour_show_hn[hour_created]=comments_numbers\n",
    "    else:\n",
    "        counts_by_hour_show_hn[hour_created]+=1\n",
    "        comments_by_hour_show_hn[hour_created]+=comments_numbers"
   ]
  },
  {
   "cell_type": "markdown",
   "metadata": {},
   "source": [
    "Oops! It's seem like there is a error cell in show posts. I will find that flaw."
   ]
  },
  {
   "cell_type": "code",
   "execution_count": 22,
   "metadata": {},
   "outputs": [
    {
     "name": "stdout",
     "output_type": "stream",
     "text": [
      "294\n"
     ]
    }
   ],
   "source": [
    "for i in time_and_comment_in_show_hn:\n",
    "    i_1=i[0]\n",
    "    if i_1 == \"askstories\":\n",
    "        print(time_and_comment_in_show_hn.index(i))"
   ]
  },
  {
   "cell_type": "code",
   "execution_count": 23,
   "metadata": {
    "scrolled": true
   },
   "outputs": [
    {
     "data": {
      "text/plain": [
       "['askstories', 2]"
      ]
     },
     "execution_count": 23,
     "metadata": {},
     "output_type": "execute_result"
    }
   ],
   "source": [
    "time_and_comment_in_show_hn[294]"
   ]
  },
  {
   "cell_type": "markdown",
   "metadata": {},
   "source": [
    "I can totally remove this error line from the `time_and_comment_in_show_hn` to make sure the code run well, however, in case if there are another error data, I will edit the code above a little bit"
   ]
  },
  {
   "cell_type": "code",
   "execution_count": 24,
   "metadata": {
    "scrolled": true
   },
   "outputs": [],
   "source": [
    "import datetime as dt\n",
    "\n",
    "counts_by_hour_show_hn={}\n",
    "comments_by_hour_show_hn={}\n",
    "for each in time_and_comment_in_show_hn:\n",
    "    try:\n",
    "        times=each[0]\n",
    "        comments_numbers=each[1]\n",
    "        date_result=dt.datetime.strptime(times,\"%m/%d/%Y %H:%M\")\n",
    "        hour_created=date_result.strftime(\"%H\")\n",
    "        if hour_created not in counts_by_hour_show_hn:\n",
    "            counts_by_hour_show_hn[hour_created]=1\n",
    "            comments_by_hour_show_hn[hour_created]=comments_numbers\n",
    "        else:\n",
    "            counts_by_hour_show_hn[hour_created]+=1\n",
    "            comments_by_hour_show_hn[hour_created]+=comments_numbers\n",
    "    except ValueError:\n",
    "        pass"
   ]
  },
  {
   "cell_type": "code",
   "execution_count": 25,
   "metadata": {
    "scrolled": false
   },
   "outputs": [
    {
     "name": "stdout",
     "output_type": "stream",
     "text": [
      "{'20': 203, '19': 222, '16': 313, '10': 124, '06': 74, '03': 81, '18': 263, '17': 312, '15': 330, '11': 187, '14': 294, '13': 287, '09': 132, '01': 109, '22': 164, '12': 247, '08': 134, '04': 74, '00': 123, '21': 182, '05': 65, '23': 119, '07': 105, '02': 85}\n"
     ]
    }
   ],
   "source": [
    "print(counts_by_hour_show_hn)"
   ]
  },
  {
   "cell_type": "code",
   "execution_count": 26,
   "metadata": {},
   "outputs": [
    {
     "name": "stdout",
     "output_type": "stream",
     "text": [
      "{'20': 1790, '19': 2323, '16': 2936, '10': 980, '06': 730, '03': 742, '18': 2842, '17': 2660, '15': 2951, '11': 2162, '14': 3223, '13': 2934, '09': 1057, '01': 786, '22': 1310, '12': 3010, '08': 1517, '04': 788, '00': 1122, '21': 1653, '05': 521, '23': 1208, '07': 1453, '02': 781}\n"
     ]
    }
   ],
   "source": [
    "print(comments_by_hour_show_hn)"
   ]
  },
  {
   "cell_type": "markdown",
   "metadata": {},
   "source": [
    "Now, it's clear!"
   ]
  },
  {
   "cell_type": "code",
   "execution_count": 27,
   "metadata": {},
   "outputs": [],
   "source": [
    "avg_by_hour_show_hn=[]\n",
    "for i in comments_by_hour_show_hn:\n",
    "    if i in counts_by_hour_show_hn:\n",
    "        avg_by_hour_show_hn.append([i, comments_by_hour_show_hn[i]/counts_by_hour_show_hn[i]])"
   ]
  },
  {
   "cell_type": "code",
   "execution_count": 28,
   "metadata": {},
   "outputs": [
    {
     "data": {
      "text/plain": [
       "[['20', 8.817733990147783],\n",
       " ['19', 10.463963963963964],\n",
       " ['16', 9.380191693290735],\n",
       " ['10', 7.903225806451613],\n",
       " ['06', 9.864864864864865],\n",
       " ['03', 9.160493827160494],\n",
       " ['18', 10.806083650190114],\n",
       " ['17', 8.525641025641026],\n",
       " ['15', 8.942424242424243],\n",
       " ['11', 11.561497326203208],\n",
       " ['14', 10.962585034013605],\n",
       " ['13', 10.222996515679442],\n",
       " ['09', 8.007575757575758],\n",
       " ['01', 7.2110091743119265],\n",
       " ['22', 7.987804878048781],\n",
       " ['12', 12.186234817813766],\n",
       " ['08', 11.32089552238806],\n",
       " ['04', 10.64864864864865],\n",
       " ['00', 9.121951219512194],\n",
       " ['21', 9.082417582417582],\n",
       " ['05', 8.015384615384615],\n",
       " ['23', 10.15126050420168],\n",
       " ['07', 13.838095238095239],\n",
       " ['02', 9.188235294117646]]"
      ]
     },
     "execution_count": 28,
     "metadata": {},
     "output_type": "execute_result"
    }
   ],
   "source": [
    "avg_by_hour_show_hn"
   ]
  },
  {
   "cell_type": "code",
   "execution_count": 29,
   "metadata": {},
   "outputs": [],
   "source": [
    "def func(lists):\n",
    "    return lists[1]\n",
    "sorted_swap_show_hn=sorted(avg_by_hour_show_hn,key=func,reverse=True)"
   ]
  },
  {
   "cell_type": "code",
   "execution_count": 30,
   "metadata": {
    "scrolled": true
   },
   "outputs": [
    {
     "data": {
      "text/plain": [
       "[['07', 13.838095238095239],\n",
       " ['12', 12.186234817813766],\n",
       " ['11', 11.561497326203208],\n",
       " ['08', 11.32089552238806],\n",
       " ['14', 10.962585034013605],\n",
       " ['18', 10.806083650190114],\n",
       " ['04', 10.64864864864865],\n",
       " ['19', 10.463963963963964],\n",
       " ['13', 10.222996515679442],\n",
       " ['23', 10.15126050420168],\n",
       " ['06', 9.864864864864865],\n",
       " ['16', 9.380191693290735],\n",
       " ['02', 9.188235294117646],\n",
       " ['03', 9.160493827160494],\n",
       " ['00', 9.121951219512194],\n",
       " ['21', 9.082417582417582],\n",
       " ['15', 8.942424242424243],\n",
       " ['20', 8.817733990147783],\n",
       " ['17', 8.525641025641026],\n",
       " ['05', 8.015384615384615],\n",
       " ['09', 8.007575757575758],\n",
       " ['22', 7.987804878048781],\n",
       " ['10', 7.903225806451613],\n",
       " ['01', 7.2110091743119265]]"
      ]
     },
     "execution_count": 30,
     "metadata": {},
     "output_type": "execute_result"
    }
   ],
   "source": [
    "sorted_swap_show_hn"
   ]
  },
  {
   "cell_type": "code",
   "execution_count": 31,
   "metadata": {},
   "outputs": [],
   "source": [
    "top_5_highest_chance_time_show_hn=[]\n",
    "for i in sorted_swap_show_hn[0:5]:\n",
    "    time=dt.datetime.strptime(i[0],\"%H\")\n",
    "    time_string=time.strftime(\"%H:00\")\n",
    "    platform=\"{}: {:.2f} average comments per post\"\n",
    "    string=platform.format(time_string,i[1])\n",
    "    top_5_highest_chance_time_show_hn.append(string)"
   ]
  },
  {
   "cell_type": "code",
   "execution_count": 32,
   "metadata": {},
   "outputs": [
    {
     "name": "stdout",
     "output_type": "stream",
     "text": [
      "Top 5 Hours for 'show HN' Comments\n",
      "\n",
      "\n",
      "07:00: 13.84 average comments per post\n",
      "\n",
      "\n",
      "12:00: 12.19 average comments per post\n",
      "\n",
      "\n",
      "11:00: 11.56 average comments per post\n",
      "\n",
      "\n",
      "08:00: 11.32 average comments per post\n",
      "\n",
      "\n",
      "14:00: 10.96 average comments per post\n"
     ]
    }
   ],
   "source": [
    "print(\"Top 5 Hours for 'show HN' Comments\")\n",
    "explore_data(top_5_highest_chance_time_show_hn)"
   ]
  },
  {
   "cell_type": "markdown",
   "metadata": {},
   "source": [
    "As you can see from the result in __4.1__ and __4.2__, `ask posts` receives more considerations than `show posts` does. The highest average number of comments in timeframe (at 07:00) of `show posts` (13.84) is only approximately equal to the fourth place (13.83) of the highest figure for `ask posts`, which is at 17:00. Besides, the timeframe holding the highest figure in `ask post` is totally dominant compared to the second position of the same type of post, specifically, about 75% higher of the the second place."
   ]
  },
  {
   "cell_type": "markdown",
   "metadata": {},
   "source": [
    "# Conclusion\n",
    "\n",
    "I am living in Finland (GMT +2), and timezone of the documentation was Eastern Time in the US (GMT -5). So which mean the best time for me to create an ask post was 22:00, for a show post was 14:00"
   ]
  }
 ],
 "metadata": {
  "kernelspec": {
   "display_name": "Python 3",
   "language": "python",
   "name": "python3"
  },
  "language_info": {
   "codemirror_mode": {
    "name": "ipython",
    "version": 3
   },
   "file_extension": ".py",
   "mimetype": "text/x-python",
   "name": "python",
   "nbconvert_exporter": "python",
   "pygments_lexer": "ipython3",
   "version": "3.7.4"
  }
 },
 "nbformat": 4,
 "nbformat_minor": 2
}
